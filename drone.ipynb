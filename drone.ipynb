{
 "cells": [
  {
   "cell_type": "code",
   "execution_count": 1,
   "metadata": {
    "collapsed": false,
    "deletable": true,
    "editable": true
   },
   "outputs": [
    {
     "name": "stderr",
     "output_type": "stream",
     "text": [
      "Using TensorFlow backend.\n"
     ]
    },
    {
     "name": "stdout",
     "output_type": "stream",
     "text": [
      "episode: 1000, score:  32.988, best:  32.997"
     ]
    }
   ],
   "source": [
    "import sys\n",
    "import pandas as pd\n",
    "from agents.agent import *\n",
    "from task import *\n",
    "\n",
    "num_episodes = 1000\n",
    "target_pos = np.array([0.0, 0.0, 10.0])\n",
    "task = Task(target_pos = target_pos)\n",
    "drone_agent = DDPG(task)\n",
    "\n",
    "#setup\n",
    "labels = ['time', 'x', 'y', 'z', \n",
    "          'phi', 'theta', 'psi', \n",
    "          'x_vel', 'y_vel', 'z_vel', \n",
    "          'phi_vel', 'theta_vel', 'psi_vel', \n",
    "          'rotor1_speed', 'rotor2_speed', 'rotor3_speed']\n",
    "plot = {x: [] for x in ['episode', 'score']}\n",
    "\n",
    "all_results = []\n",
    "\n",
    "for i_episode in range(1, num_episodes + 1):\n",
    "    '''reset state'''\n",
    "    state = drone_agent.reset_episode()\n",
    "    \n",
    "    #keep running all along episodes\n",
    "    while True:\n",
    "        '''taking action, action is rotor speed'''\n",
    "        action = drone_agent.act(state)\n",
    "        '''observe R', S' '''\n",
    "        next_state, reward, done = task.step(action)\n",
    "        '''learn and save experience'''\n",
    "        drone_agent.step(action = action, reward = reward, next_state = next_state, done = done)\n",
    "        state = next_state    \n",
    "        \n",
    "        if done:\n",
    "            print(\"\\repisode: {:4d}, score: {:7.3f}, best: {:7.3f}\".format(i_episode, drone_agent.score, drone_agent.best_score), end = \"\")\n",
    "            \n",
    "            #plot\n",
    "            plot['episode'].append(i_episode)\n",
    "            plot['score'].append(drone_agent.score)\n",
    "            \n",
    "            break\n",
    "        \n",
    "    \n",
    "    sys.stdout.flush()"
   ]
  },
  {
   "cell_type": "code",
   "execution_count": 2,
   "metadata": {
    "collapsed": false,
    "deletable": true,
    "editable": true
   },
   "outputs": [
    {
     "data": {
      "image/png": "[encoded data removed]",
      "text/plain": [
       "<matplotlib.figure.Figure at 0x7f9d8decceb8>"
      ]
     },
     "metadata": {},
     "output_type": "display_data"
    }
   ],
   "source": [
    "import matplotlib.pyplot as plt\n",
    "%matplotlib inline\n",
    "\n",
    "smooth = 21\n",
    "plt.figure(figsize = (15, 5))\n",
    "plt.plot(plot['score'], '.', alpha = 0.25, color = 'xkcd:blue')\n",
    "plt.plot(np.convolve(plot['score'], np.ones(smooth) / smooth)[(smooth - 1) // 2 : -smooth], \n",
    "         color = 'xkcd:blue', \n",
    "         label = 'total reward')\n",
    "\n",
    "plt.ylabel('total reward')\n",
    "plt.legend(loc = 2)\n",
    "plt.grid(True)\n",
    "\n",
    "plt.xlabel('episode')\n",
    "plt.xlim(0, len(plot['score']))\n",
    "\n",
    "plt.show()"
   ]
  },
  {
   "cell_type": "code",
   "execution_count": 3,
   "metadata": {
    "collapsed": false,
    "deletable": true,
    "editable": true
   },
   "outputs": [
    {
     "name": "stdout",
     "output_type": "stream",
     "text": [
      "32.987765551882234\n"
     ]
    }
   ],
   "source": [
    "print(np.mean(plot['score'][990 : -1]))"
   ]
  },
  {
   "cell_type": "code",
   "execution_count": null,
   "metadata": {
    "collapsed": true,
    "deletable": true,
    "editable": true
   },
   "outputs": [],
   "source": []
  }
 ],
 "metadata": {
  "kernelspec": {
   "display_name": "Python 3",
   "language": "python",
   "name": "python3"
  },
  "language_info": {
   "codemirror_mode": {
    "name": "ipython",
    "version": 3
   },
   "file_extension": ".py",
   "mimetype": "text/x-python",
   "name": "python",
   "nbconvert_exporter": "python",
   "pygments_lexer": "ipython3",
   "version": "3.6.3"
  }
 },
 "nbformat": 4,
 "nbformat_minor": 2
}
